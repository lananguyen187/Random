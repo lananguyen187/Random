{
 "cells": [
  {
   "cell_type": "code",
   "execution_count": 2,
   "metadata": {},
   "outputs": [
    {
     "name": "stdout",
     "output_type": "stream",
     "text": [
      "20006, 10003, 30010, 15005, 45016, 22508, 11254, 5627, 16882, 8441, 25324, 12662, 6331, 18994, 9497, 28492, 14246, 7123, 21370, 10685, 32056, 16028, 8014, 4007, 12022, 6011, 18034, 9017, 27052, 13526, 6763, 20290, 10145, 30436, 15218, 7609, 22828, 11414, 5707, 17122, 8561, 25684, 12842, 6421, 19264, 9632, 4816, 2408, 1204, 602, 301, 904, 452, 226, 113, 340, 170, 85, 256, 128, 64, 32, 16, 8, 4, 2, 1 .\n"
     ]
    }
   ],
   "source": [
    "n=20006\n",
    "\n",
    "while n!=1:\n",
    "  print(n, end=\", \")\n",
    "  if n%2 ==0:\n",
    "    n=n//2\n",
    "  else:\n",
    "    n=n*3+1\n",
    "print(n,end=\" .\\n\")"
   ]
  },
  {
   "cell_type": "code",
   "execution_count": 8,
   "metadata": {},
   "outputs": [
    {
     "name": "stdout",
     "output_type": "stream",
     "text": [
      "2\n"
     ]
    }
   ],
   "source": [
    "# check number of digit\n",
    "n = 25\n",
    "count = 0\n",
    "while n!=0:\n",
    "    n=n//10\n",
    "    count=count+1   \n",
    "print(count)\n"
   ]
  },
  {
   "cell_type": "code",
   "execution_count": 10,
   "metadata": {},
   "outputs": [
    {
     "name": "stdout",
     "output_type": "stream",
     "text": [
      "3\n"
     ]
    }
   ],
   "source": [
    "# print number of digit is 0,5\n",
    "\n",
    "n= 405670\n",
    "count = 0\n",
    "while n!=0:\n",
    "    n=n//10\n",
    "    digit=n%10\n",
    "    if digit ==0 or digit == 5:\n",
    "        count=count+1\n",
    "\n",
    "print(count)\n",
    "    "
   ]
  },
  {
   "cell_type": "code",
   "execution_count": null,
   "metadata": {},
   "outputs": [],
   "source": []
  }
 ],
 "metadata": {
  "kernelspec": {
   "display_name": "Python 3",
   "language": "python",
   "name": "python3"
  },
  "language_info": {
   "codemirror_mode": {
    "name": "ipython",
    "version": 3
   },
   "file_extension": ".py",
   "mimetype": "text/x-python",
   "name": "python",
   "nbconvert_exporter": "python",
   "pygments_lexer": "ipython3",
   "version": "3.7.3"
  }
 },
 "nbformat": 4,
 "nbformat_minor": 2
}
